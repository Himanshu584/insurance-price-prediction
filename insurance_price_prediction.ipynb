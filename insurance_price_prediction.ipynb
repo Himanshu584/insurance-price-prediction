{
  "nbformat": 4,
  "nbformat_minor": 0,
  "metadata": {
    "colab": {
      "name": "insurance_price_prediction.ipynb",
      "provenance": [],
      "authorship_tag": "ABX9TyOrCvbHTkycfjeOEJRncsYg",
      "include_colab_link": true
    },
    "kernelspec": {
      "name": "python3",
      "display_name": "Python 3"
    },
    "language_info": {
      "name": "python"
    }
  },
  "cells": [
    {
      "cell_type": "markdown",
      "metadata": {
        "id": "view-in-github",
        "colab_type": "text"
      },
      "source": [
        "<a href=\"https://colab.research.google.com/github/Himanshu584/insurance-price-prediction/blob/main/insurance_price_prediction.ipynb\" target=\"_parent\"><img src=\"https://colab.research.google.com/assets/colab-badge.svg\" alt=\"Open In Colab\"/></a>"
      ]
    },
    {
      "cell_type": "markdown",
      "metadata": {
        "id": "4hv1swUIt5tV"
      },
      "source": [
        "**Objective :-** We will try to predict personal health insurance costs bases on  various parameters.\n",
        "\n",
        "To read or to get more information about the dataset, visit [Medical Cost Personal Datasets](https://www.kaggle.com/mirichoi0218/insurance) which is publically available on kaggle.\n",
        "\n",
        "\n",
        "---\n",
        "\n"
      ]
    },
    {
      "cell_type": "markdown",
      "metadata": {
        "id": "JCx49bPYvrwW"
      },
      "source": [
        "# Data\n",
        "\n",
        "Lets load and see our data to get some intution and understanding of the same.\n"
      ]
    },
    {
      "cell_type": "code",
      "metadata": {
        "id": "IAyLEIn_wKZR"
      },
      "source": [
        "import pandas as pd  # Used for loading data into DataFrame and data-manipulation"
      ],
      "execution_count": 1,
      "outputs": []
    },
    {
      "cell_type": "code",
      "metadata": {
        "colab": {
          "base_uri": "https://localhost:8080/",
          "height": 195
        },
        "id": "_P55hpgHwqVE",
        "outputId": "fd5d03e6-b47d-46fb-fa57-30738e606ddb"
      },
      "source": [
        "# Load data into a DataFrame \n",
        "insurance_data = pd.read_csv(\"https://raw.githubusercontent.com/stedy/Machine-Learning-with-R-datasets/master/insurance.csv\")\n",
        "insurance_data.head() # Prints first 5 rows of our dataset"
      ],
      "execution_count": 2,
      "outputs": [
        {
          "output_type": "execute_result",
          "data": {
            "text/html": [
              "<div>\n",
              "<style scoped>\n",
              "    .dataframe tbody tr th:only-of-type {\n",
              "        vertical-align: middle;\n",
              "    }\n",
              "\n",
              "    .dataframe tbody tr th {\n",
              "        vertical-align: top;\n",
              "    }\n",
              "\n",
              "    .dataframe thead th {\n",
              "        text-align: right;\n",
              "    }\n",
              "</style>\n",
              "<table border=\"1\" class=\"dataframe\">\n",
              "  <thead>\n",
              "    <tr style=\"text-align: right;\">\n",
              "      <th></th>\n",
              "      <th>age</th>\n",
              "      <th>sex</th>\n",
              "      <th>bmi</th>\n",
              "      <th>children</th>\n",
              "      <th>smoker</th>\n",
              "      <th>region</th>\n",
              "      <th>charges</th>\n",
              "    </tr>\n",
              "  </thead>\n",
              "  <tbody>\n",
              "    <tr>\n",
              "      <th>0</th>\n",
              "      <td>19</td>\n",
              "      <td>female</td>\n",
              "      <td>27.900</td>\n",
              "      <td>0</td>\n",
              "      <td>yes</td>\n",
              "      <td>southwest</td>\n",
              "      <td>16884.92400</td>\n",
              "    </tr>\n",
              "    <tr>\n",
              "      <th>1</th>\n",
              "      <td>18</td>\n",
              "      <td>male</td>\n",
              "      <td>33.770</td>\n",
              "      <td>1</td>\n",
              "      <td>no</td>\n",
              "      <td>southeast</td>\n",
              "      <td>1725.55230</td>\n",
              "    </tr>\n",
              "    <tr>\n",
              "      <th>2</th>\n",
              "      <td>28</td>\n",
              "      <td>male</td>\n",
              "      <td>33.000</td>\n",
              "      <td>3</td>\n",
              "      <td>no</td>\n",
              "      <td>southeast</td>\n",
              "      <td>4449.46200</td>\n",
              "    </tr>\n",
              "    <tr>\n",
              "      <th>3</th>\n",
              "      <td>33</td>\n",
              "      <td>male</td>\n",
              "      <td>22.705</td>\n",
              "      <td>0</td>\n",
              "      <td>no</td>\n",
              "      <td>northwest</td>\n",
              "      <td>21984.47061</td>\n",
              "    </tr>\n",
              "    <tr>\n",
              "      <th>4</th>\n",
              "      <td>32</td>\n",
              "      <td>male</td>\n",
              "      <td>28.880</td>\n",
              "      <td>0</td>\n",
              "      <td>no</td>\n",
              "      <td>northwest</td>\n",
              "      <td>3866.85520</td>\n",
              "    </tr>\n",
              "  </tbody>\n",
              "</table>\n",
              "</div>"
            ],
            "text/plain": [
              "   age     sex     bmi  children smoker     region      charges\n",
              "0   19  female  27.900         0    yes  southwest  16884.92400\n",
              "1   18    male  33.770         1     no  southeast   1725.55230\n",
              "2   28    male  33.000         3     no  southeast   4449.46200\n",
              "3   33    male  22.705         0     no  northwest  21984.47061\n",
              "4   32    male  28.880         0     no  northwest   3866.85520"
            ]
          },
          "metadata": {
            "tags": []
          },
          "execution_count": 2
        }
      ]
    },
    {
      "cell_type": "markdown",
      "metadata": {
        "id": "DGTZTRMzyEoG"
      },
      "source": [
        "Clearly, This is a Regression Problem \n",
        "\n",
        "\n",
        "We have 4 columns consisting of numerical values and 3 columns consisting of catagorical values .\n",
        "\n",
        "For this problem we will build a neural network model that can predict charges based on various parameters"
      ]
    },
    {
      "cell_type": "markdown",
      "metadata": {
        "id": "st4u2qQ-z7Zf"
      },
      "source": [
        "Let's begin by checking data-types of various columns in our dataset"
      ]
    },
    {
      "cell_type": "code",
      "metadata": {
        "colab": {
          "base_uri": "https://localhost:8080/"
        },
        "id": "3uAdu9y6z4rH",
        "outputId": "e374244f-959c-4f1b-b291-fad9773b9df0"
      },
      "source": [
        "insurance_data['age'].dtype"
      ],
      "execution_count": 3,
      "outputs": [
        {
          "output_type": "execute_result",
          "data": {
            "text/plain": [
              "dtype('int64')"
            ]
          },
          "metadata": {
            "tags": []
          },
          "execution_count": 3
        }
      ]
    },
    {
      "cell_type": "code",
      "metadata": {
        "colab": {
          "base_uri": "https://localhost:8080/"
        },
        "id": "_WNokDEQ0XkT",
        "outputId": "8d7fe72e-9b0b-4825-c4c7-51c5b6127969"
      },
      "source": [
        "insurance_data['sex'].dtype"
      ],
      "execution_count": 4,
      "outputs": [
        {
          "output_type": "execute_result",
          "data": {
            "text/plain": [
              "dtype('O')"
            ]
          },
          "metadata": {
            "tags": []
          },
          "execution_count": 4
        }
      ]
    },
    {
      "cell_type": "code",
      "metadata": {
        "colab": {
          "base_uri": "https://localhost:8080/"
        },
        "id": "kOTQd0JW0lRl",
        "outputId": "1094330b-46a6-4da6-f278-51fcbcf1f19e"
      },
      "source": [
        "insurance_data['bmi'].dtype"
      ],
      "execution_count": 5,
      "outputs": [
        {
          "output_type": "execute_result",
          "data": {
            "text/plain": [
              "dtype('float64')"
            ]
          },
          "metadata": {
            "tags": []
          },
          "execution_count": 5
        }
      ]
    },
    {
      "cell_type": "code",
      "metadata": {
        "colab": {
          "base_uri": "https://localhost:8080/"
        },
        "id": "70wj91UU0vba",
        "outputId": "2956edf1-72eb-4ed0-a945-a50ca2be36be"
      },
      "source": [
        "insurance_data['children'].dtype"
      ],
      "execution_count": 6,
      "outputs": [
        {
          "output_type": "execute_result",
          "data": {
            "text/plain": [
              "dtype('int64')"
            ]
          },
          "metadata": {
            "tags": []
          },
          "execution_count": 6
        }
      ]
    },
    {
      "cell_type": "code",
      "metadata": {
        "colab": {
          "base_uri": "https://localhost:8080/"
        },
        "id": "Btp3qzaa00Om",
        "outputId": "3b70f46d-b5da-4b87-990b-67e1b6e1e956"
      },
      "source": [
        "insurance_data['smoker'].dtype"
      ],
      "execution_count": 7,
      "outputs": [
        {
          "output_type": "execute_result",
          "data": {
            "text/plain": [
              "dtype('O')"
            ]
          },
          "metadata": {
            "tags": []
          },
          "execution_count": 7
        }
      ]
    },
    {
      "cell_type": "code",
      "metadata": {
        "colab": {
          "base_uri": "https://localhost:8080/"
        },
        "id": "KJX_NYMu059W",
        "outputId": "bafd9384-bbdd-488a-ea92-88c4c67ccd77"
      },
      "source": [
        "insurance_data['region'].dtype"
      ],
      "execution_count": 8,
      "outputs": [
        {
          "output_type": "execute_result",
          "data": {
            "text/plain": [
              "dtype('O')"
            ]
          },
          "metadata": {
            "tags": []
          },
          "execution_count": 8
        }
      ]
    },
    {
      "cell_type": "markdown",
      "metadata": {
        "id": "BLFnXVXj1Hz8"
      },
      "source": [
        "We can see that we have:\n",
        "* 3 columns of dtype `object` - smoker, region & sex \n",
        "* 2 columns of dtype `int64`  - children, age\n",
        "* 1 column of dtype `float64` - bmi\n",
        "\n",
        "we will first focus on converting the catagorical variables into numerical variables. For this we can use `get_dummies` method in pandas which is a way of one-hot incoding in pandas, But we will perform `normalization` on data because we want to bring our numerical variables into same scale and also we want to one-hot encode our catagorical variables.\n",
        "\n",
        "As we are going to build deep-learning regression model, deep-learning models tend to prefer `MiniMax Scaler` to scale the values.\n"
      ]
    },
    {
      "cell_type": "code",
      "metadata": {
        "id": "gz5QYzXT34MJ"
      },
      "source": [
        "# import minimax scaler , column_transformer and onehot-encoder from sklearn\n",
        "\n",
        "from sklearn.compose import make_column_transformer # helps to transform both catagorical & numerical columns at once\n",
        "from sklearn.preprocessing import MinMaxScaler, OneHotEncoder # MinMaxScaler: for numerical normalization , OneHotEncoder: to convert catagorical to numerical\n",
        "\n",
        "ct = make_column_transformer(\n",
        "    (MinMaxScaler(),['age', 'bmi', 'children']), # tranforms all values between 0 and 1\n",
        "    (OneHotEncoder(handle_unknown='ignore'),['sex', 'smoker', 'region']) \n",
        ")"
      ],
      "execution_count": 27,
      "outputs": []
    },
    {
      "cell_type": "markdown",
      "metadata": {
        "id": "ouS-tO3r88ho"
      },
      "source": [
        "lets now assign features and labels to our dataset"
      ]
    },
    {
      "cell_type": "code",
      "metadata": {
        "id": "N4PyWP6uAqM5"
      },
      "source": [
        "X = insurance_data.drop(\"charges\", axis=1) # inputs\\features (independent variables)\n",
        "y = insurance_data[\"charges\"] # labels\\output (dependent variable)"
      ],
      "execution_count": 28,
      "outputs": []
    },
    {
      "cell_type": "code",
      "metadata": {
        "colab": {
          "base_uri": "https://localhost:8080/",
          "height": 136
        },
        "id": "HQB6CTILBISS",
        "outputId": "8be6748d-21ef-4036-cde3-d5b44fad0273"
      },
      "source": [
        "X.head(3)"
      ],
      "execution_count": 29,
      "outputs": [
        {
          "output_type": "execute_result",
          "data": {
            "text/html": [
              "<div>\n",
              "<style scoped>\n",
              "    .dataframe tbody tr th:only-of-type {\n",
              "        vertical-align: middle;\n",
              "    }\n",
              "\n",
              "    .dataframe tbody tr th {\n",
              "        vertical-align: top;\n",
              "    }\n",
              "\n",
              "    .dataframe thead th {\n",
              "        text-align: right;\n",
              "    }\n",
              "</style>\n",
              "<table border=\"1\" class=\"dataframe\">\n",
              "  <thead>\n",
              "    <tr style=\"text-align: right;\">\n",
              "      <th></th>\n",
              "      <th>age</th>\n",
              "      <th>sex</th>\n",
              "      <th>bmi</th>\n",
              "      <th>children</th>\n",
              "      <th>smoker</th>\n",
              "      <th>region</th>\n",
              "    </tr>\n",
              "  </thead>\n",
              "  <tbody>\n",
              "    <tr>\n",
              "      <th>0</th>\n",
              "      <td>19</td>\n",
              "      <td>female</td>\n",
              "      <td>27.90</td>\n",
              "      <td>0</td>\n",
              "      <td>yes</td>\n",
              "      <td>southwest</td>\n",
              "    </tr>\n",
              "    <tr>\n",
              "      <th>1</th>\n",
              "      <td>18</td>\n",
              "      <td>male</td>\n",
              "      <td>33.77</td>\n",
              "      <td>1</td>\n",
              "      <td>no</td>\n",
              "      <td>southeast</td>\n",
              "    </tr>\n",
              "    <tr>\n",
              "      <th>2</th>\n",
              "      <td>28</td>\n",
              "      <td>male</td>\n",
              "      <td>33.00</td>\n",
              "      <td>3</td>\n",
              "      <td>no</td>\n",
              "      <td>southeast</td>\n",
              "    </tr>\n",
              "  </tbody>\n",
              "</table>\n",
              "</div>"
            ],
            "text/plain": [
              "   age     sex    bmi  children smoker     region\n",
              "0   19  female  27.90         0    yes  southwest\n",
              "1   18    male  33.77         1     no  southeast\n",
              "2   28    male  33.00         3     no  southeast"
            ]
          },
          "metadata": {
            "tags": []
          },
          "execution_count": 29
        }
      ]
    },
    {
      "cell_type": "code",
      "metadata": {
        "colab": {
          "base_uri": "https://localhost:8080/"
        },
        "id": "fx-2q8vyBLRU",
        "outputId": "6fd1e617-1b8a-4de2-8f52-6d74a1d160fd"
      },
      "source": [
        "X.shape, y.shape"
      ],
      "execution_count": 30,
      "outputs": [
        {
          "output_type": "execute_result",
          "data": {
            "text/plain": [
              "((1338, 6), (1338,))"
            ]
          },
          "metadata": {
            "tags": []
          },
          "execution_count": 30
        }
      ]
    },
    {
      "cell_type": "markdown",
      "metadata": {
        "id": "jDqcdgDiBW-8"
      },
      "source": [
        "Now, lets split our data into training and testing datasets"
      ]
    },
    {
      "cell_type": "code",
      "metadata": {
        "colab": {
          "base_uri": "https://localhost:8080/"
        },
        "id": "D4O3qTc4LEnN",
        "outputId": "a864ee02-9210-4ec2-b393-5266e792e5d1"
      },
      "source": [
        "from sklearn.model_selection import train_test_split\n",
        "\n",
        "X_train, X_test, y_train, y_test = train_test_split(X,y, test_size=0.2, random_state=42)\n",
        "\n",
        "X_train.shape, X_test.shape, y_train.shape, y_test.shape"
      ],
      "execution_count": 31,
      "outputs": [
        {
          "output_type": "execute_result",
          "data": {
            "text/plain": [
              "((1070, 6), (268, 6), (1070,), (268,))"
            ]
          },
          "metadata": {
            "tags": []
          },
          "execution_count": 31
        }
      ]
    },
    {
      "cell_type": "markdown",
      "metadata": {
        "id": "Kt-j7iXcLn6q"
      },
      "source": [
        "Now , lets normalize our train and test data"
      ]
    },
    {
      "cell_type": "code",
      "metadata": {
        "colab": {
          "base_uri": "https://localhost:8080/"
        },
        "id": "ucpElNiGNbTD",
        "outputId": "9d16f07d-d04e-4337-cdd7-56cf69423304"
      },
      "source": [
        "X_train.columns"
      ],
      "execution_count": 32,
      "outputs": [
        {
          "output_type": "execute_result",
          "data": {
            "text/plain": [
              "Index(['age', 'sex', 'bmi', 'children', 'smoker', 'region'], dtype='object')"
            ]
          },
          "metadata": {
            "tags": []
          },
          "execution_count": 32
        }
      ]
    },
    {
      "cell_type": "code",
      "metadata": {
        "id": "g0_LK4ThMPI-"
      },
      "source": [
        "# fit column transformer to training data \n",
        "ct.fit(X_train)\n",
        "\n",
        "# transform train and test data with normalization\n",
        "X_train_normal = ct.transform(X_train)\n",
        "X_test_normal = ct.transform(X_test)"
      ],
      "execution_count": 33,
      "outputs": []
    },
    {
      "cell_type": "code",
      "metadata": {
        "colab": {
          "base_uri": "https://localhost:8080/"
        },
        "id": "zqxPM7aUM2NM",
        "outputId": "74f36949-52d5-425f-f46f-9ab3b4b5c8ad"
      },
      "source": [
        "X_train_normal"
      ],
      "execution_count": 34,
      "outputs": [
        {
          "output_type": "execute_result",
          "data": {
            "text/plain": [
              "array([[0.60869565, 0.10734463, 0.4       , ..., 1.        , 0.        ,\n",
              "        0.        ],\n",
              "       [0.63043478, 0.22491256, 0.        , ..., 0.        , 0.        ,\n",
              "        0.        ],\n",
              "       [0.73913043, 0.23944041, 0.        , ..., 0.        , 1.        ,\n",
              "        0.        ],\n",
              "       ...,\n",
              "       [0.86956522, 0.24791499, 0.        , ..., 0.        , 0.        ,\n",
              "        0.        ],\n",
              "       [0.41304348, 0.85122411, 0.4       , ..., 0.        , 0.        ,\n",
              "        1.        ],\n",
              "       [0.80434783, 0.37503363, 0.        , ..., 0.        , 0.        ,\n",
              "        1.        ]])"
            ]
          },
          "metadata": {
            "tags": []
          },
          "execution_count": 34
        }
      ]
    },
    {
      "cell_type": "code",
      "metadata": {
        "colab": {
          "base_uri": "https://localhost:8080/"
        },
        "id": "J9QwRTv_QWLw",
        "outputId": "992c7265-3d79-45cb-a62b-42d32df1d202"
      },
      "source": [
        "X_test_normal"
      ],
      "execution_count": 35,
      "outputs": [
        {
          "output_type": "execute_result",
          "data": {
            "text/plain": [
              "array([[0.58695652, 0.24791499, 0.4       , ..., 0.        , 0.        ,\n",
              "        0.        ],\n",
              "       [0.39130435, 0.37826204, 0.        , ..., 1.        , 0.        ,\n",
              "        0.        ],\n",
              "       [1.        , 0.29391983, 0.        , ..., 1.        , 0.        ,\n",
              "        0.        ],\n",
              "       ...,\n",
              "       [0.43478261, 0.32458972, 0.2       , ..., 0.        , 0.        ,\n",
              "        0.        ],\n",
              "       [0.7826087 , 0.84611246, 0.        , ..., 0.        , 1.        ,\n",
              "        0.        ],\n",
              "       [0.7173913 , 0.49071832, 0.2       , ..., 0.        , 0.        ,\n",
              "        1.        ]])"
            ]
          },
          "metadata": {
            "tags": []
          },
          "execution_count": 35
        }
      ]
    },
    {
      "cell_type": "markdown",
      "metadata": {
        "id": "akzeI237QZDh"
      },
      "source": [
        "we can clearly see all our data is now transformed !!!. great achievement in preprocessing . its always a happy feeling when preprocessing is complete"
      ]
    },
    {
      "cell_type": "markdown",
      "metadata": {
        "id": "38wbb16mQvjB"
      },
      "source": [
        "Now that our data is normalized , lets build a neural network model and fit it on the training data. \n",
        "\n",
        "`My favourite part of the work`\n"
      ]
    },
    {
      "cell_type": "code",
      "metadata": {
        "colab": {
          "base_uri": "https://localhost:8080/",
          "height": 35
        },
        "id": "zUJntmIVRT5g",
        "outputId": "a3441cdb-7a97-4db4-d4c2-85c0ddff2824"
      },
      "source": [
        "import tensorflow as tf # library that helps building deep learning models \n",
        "tf.__version__"
      ],
      "execution_count": 37,
      "outputs": [
        {
          "output_type": "execute_result",
          "data": {
            "application/vnd.google.colaboratory.intrinsic+json": {
              "type": "string"
            },
            "text/plain": [
              "'2.4.1'"
            ]
          },
          "metadata": {
            "tags": []
          },
          "execution_count": 37
        }
      ]
    },
    {
      "cell_type": "markdown",
      "metadata": {
        "id": "I3kOKC-6SDi2"
      },
      "source": [
        "lets first build `model_1` with one Dense layer with 1 hidden neuron"
      ]
    },
    {
      "cell_type": "code",
      "metadata": {
        "colab": {
          "base_uri": "https://localhost:8080/"
        },
        "id": "AYccIFLzRdhu",
        "outputId": "ba933487-d239-439e-c7ab-eb1d23ae2a43"
      },
      "source": [
        "# set the random state for reproducibility \n",
        "tf.random.set_seed(42)\n",
        "\n",
        "# Build model_1\n",
        "model_1 = tf.keras.Sequential([\n",
        "    tf.keras.layers.Dense(1)\n",
        "])\n",
        "\n",
        "# compile the model\n",
        "model_1.compile(loss=tf.keras.losses.mae,\n",
        "                optimizer=tf.keras.optimizers.SGD(),\n",
        "                metrics=[\"mae\"])\n",
        "\n",
        "# fit the model with normalized training data for 100 epochs\n",
        "history_1 = model_1.fit(X_train_normal,y_train, epochs=100)"
      ],
      "execution_count": 41,
      "outputs": [
        {
          "output_type": "stream",
          "text": [
            "Epoch 1/100\n",
            "34/34 [==============================] - 0s 993us/step - loss: 13298.5308 - mae: 13298.5308\n",
            "Epoch 2/100\n",
            "34/34 [==============================] - 0s 1ms/step - loss: 12957.0451 - mae: 12957.0451\n",
            "Epoch 3/100\n",
            "34/34 [==============================] - 0s 954us/step - loss: 12730.4789 - mae: 12730.4789\n",
            "Epoch 4/100\n",
            "34/34 [==============================] - 0s 986us/step - loss: 13431.9013 - mae: 13431.9013\n",
            "Epoch 5/100\n",
            "34/34 [==============================] - 0s 1ms/step - loss: 13360.8761 - mae: 13360.8761\n",
            "Epoch 6/100\n",
            "34/34 [==============================] - 0s 991us/step - loss: 13236.3426 - mae: 13236.3426\n",
            "Epoch 7/100\n",
            "34/34 [==============================] - 0s 931us/step - loss: 13281.2065 - mae: 13281.2065\n",
            "Epoch 8/100\n",
            "34/34 [==============================] - 0s 1ms/step - loss: 13637.7903 - mae: 13637.7903\n",
            "Epoch 9/100\n",
            "34/34 [==============================] - 0s 984us/step - loss: 13438.6315 - mae: 13438.6315\n",
            "Epoch 10/100\n",
            "34/34 [==============================] - 0s 995us/step - loss: 13619.0083 - mae: 13619.0083\n",
            "Epoch 11/100\n",
            "34/34 [==============================] - 0s 1ms/step - loss: 13969.7864 - mae: 13969.7864\n",
            "Epoch 12/100\n",
            "34/34 [==============================] - 0s 1ms/step - loss: 13208.4000 - mae: 13208.4000\n",
            "Epoch 13/100\n",
            "34/34 [==============================] - 0s 1ms/step - loss: 13817.8775 - mae: 13817.8775\n",
            "Epoch 14/100\n",
            "34/34 [==============================] - 0s 1ms/step - loss: 13486.6752 - mae: 13486.6752\n",
            "Epoch 15/100\n",
            "34/34 [==============================] - 0s 963us/step - loss: 13747.8214 - mae: 13747.8214\n",
            "Epoch 16/100\n",
            "34/34 [==============================] - 0s 919us/step - loss: 13619.9255 - mae: 13619.9255\n",
            "Epoch 17/100\n",
            "34/34 [==============================] - 0s 990us/step - loss: 13104.9916 - mae: 13104.9916\n",
            "Epoch 18/100\n",
            "34/34 [==============================] - 0s 1ms/step - loss: 13393.8200 - mae: 13393.8200\n",
            "Epoch 19/100\n",
            "34/34 [==============================] - 0s 1ms/step - loss: 13112.3540 - mae: 13112.3540\n",
            "Epoch 20/100\n",
            "34/34 [==============================] - 0s 1ms/step - loss: 13264.6087 - mae: 13264.6087\n",
            "Epoch 21/100\n",
            "34/34 [==============================] - 0s 1ms/step - loss: 12502.3055 - mae: 12502.3055\n",
            "Epoch 22/100\n",
            "34/34 [==============================] - 0s 996us/step - loss: 12723.3609 - mae: 12723.3609\n",
            "Epoch 23/100\n",
            "34/34 [==============================] - 0s 1ms/step - loss: 13360.3192 - mae: 13360.3192\n",
            "Epoch 24/100\n",
            "34/34 [==============================] - 0s 1ms/step - loss: 12981.9295 - mae: 12981.9295\n",
            "Epoch 25/100\n",
            "34/34 [==============================] - 0s 1ms/step - loss: 14038.2163 - mae: 14038.2163\n",
            "Epoch 26/100\n",
            "34/34 [==============================] - 0s 971us/step - loss: 12885.1492 - mae: 12885.1492\n",
            "Epoch 27/100\n",
            "34/34 [==============================] - 0s 1ms/step - loss: 13185.3866 - mae: 13185.3866\n",
            "Epoch 28/100\n",
            "34/34 [==============================] - 0s 1ms/step - loss: 13733.4492 - mae: 13733.4492\n",
            "Epoch 29/100\n",
            "34/34 [==============================] - 0s 1ms/step - loss: 12938.3703 - mae: 12938.3703\n",
            "Epoch 30/100\n",
            "34/34 [==============================] - 0s 1ms/step - loss: 13418.8311 - mae: 13418.8311\n",
            "Epoch 31/100\n",
            "34/34 [==============================] - 0s 936us/step - loss: 13782.0599 - mae: 13782.0599\n",
            "Epoch 32/100\n",
            "34/34 [==============================] - 0s 1ms/step - loss: 13465.7163 - mae: 13465.7163\n",
            "Epoch 33/100\n",
            "34/34 [==============================] - 0s 975us/step - loss: 13119.0351 - mae: 13119.0351\n",
            "Epoch 34/100\n",
            "34/34 [==============================] - 0s 957us/step - loss: 13385.4711 - mae: 13385.4711\n",
            "Epoch 35/100\n",
            "34/34 [==============================] - 0s 1ms/step - loss: 13446.9817 - mae: 13446.9817\n",
            "Epoch 36/100\n",
            "34/34 [==============================] - 0s 1ms/step - loss: 13384.3314 - mae: 13384.3314\n",
            "Epoch 37/100\n",
            "34/34 [==============================] - 0s 1ms/step - loss: 13533.0723 - mae: 13533.0723\n",
            "Epoch 38/100\n",
            "34/34 [==============================] - 0s 1ms/step - loss: 13134.7121 - mae: 13134.7121\n",
            "Epoch 39/100\n",
            "34/34 [==============================] - 0s 1ms/step - loss: 13366.0597 - mae: 13366.0597\n",
            "Epoch 40/100\n",
            "34/34 [==============================] - 0s 1ms/step - loss: 13333.8660 - mae: 13333.8660\n",
            "Epoch 41/100\n",
            "34/34 [==============================] - 0s 1ms/step - loss: 13238.5489 - mae: 13238.5489\n",
            "Epoch 42/100\n",
            "34/34 [==============================] - 0s 1ms/step - loss: 13076.0935 - mae: 13076.0935\n",
            "Epoch 43/100\n",
            "34/34 [==============================] - 0s 1ms/step - loss: 13301.4686 - mae: 13301.4686\n",
            "Epoch 44/100\n",
            "34/34 [==============================] - 0s 1ms/step - loss: 12914.0717 - mae: 12914.0717\n",
            "Epoch 45/100\n",
            "34/34 [==============================] - 0s 940us/step - loss: 13246.8574 - mae: 13246.8574\n",
            "Epoch 46/100\n",
            "34/34 [==============================] - 0s 979us/step - loss: 12713.2081 - mae: 12713.2081\n",
            "Epoch 47/100\n",
            "34/34 [==============================] - 0s 928us/step - loss: 13728.6220 - mae: 13728.6220\n",
            "Epoch 48/100\n",
            "34/34 [==============================] - 0s 1ms/step - loss: 13284.7231 - mae: 13284.7231\n",
            "Epoch 49/100\n",
            "34/34 [==============================] - 0s 1ms/step - loss: 13071.3004 - mae: 13071.3004\n",
            "Epoch 50/100\n",
            "34/34 [==============================] - 0s 1ms/step - loss: 13324.9048 - mae: 13324.9048\n",
            "Epoch 51/100\n",
            "34/34 [==============================] - 0s 952us/step - loss: 13396.8265 - mae: 13396.8265\n",
            "Epoch 52/100\n",
            "34/34 [==============================] - 0s 1ms/step - loss: 13337.3423 - mae: 13337.3423\n",
            "Epoch 53/100\n",
            "34/34 [==============================] - 0s 1ms/step - loss: 12992.0102 - mae: 12992.0102\n",
            "Epoch 54/100\n",
            "34/34 [==============================] - 0s 946us/step - loss: 13467.7141 - mae: 13467.7141\n",
            "Epoch 55/100\n",
            "34/34 [==============================] - 0s 960us/step - loss: 12955.4891 - mae: 12955.4891\n",
            "Epoch 56/100\n",
            "34/34 [==============================] - 0s 997us/step - loss: 13186.5076 - mae: 13186.5076\n",
            "Epoch 57/100\n",
            "34/34 [==============================] - 0s 1ms/step - loss: 13483.5279 - mae: 13483.5279\n",
            "Epoch 58/100\n",
            "34/34 [==============================] - 0s 1ms/step - loss: 13453.1920 - mae: 13453.1920\n",
            "Epoch 59/100\n",
            "34/34 [==============================] - 0s 1ms/step - loss: 12655.7487 - mae: 12655.7487\n",
            "Epoch 60/100\n",
            "34/34 [==============================] - 0s 1ms/step - loss: 13138.1235 - mae: 13138.1235\n",
            "Epoch 61/100\n",
            "34/34 [==============================] - 0s 983us/step - loss: 13854.3089 - mae: 13854.3089\n",
            "Epoch 62/100\n",
            "34/34 [==============================] - 0s 1ms/step - loss: 13539.7189 - mae: 13539.7189\n",
            "Epoch 63/100\n",
            "34/34 [==============================] - 0s 1ms/step - loss: 13528.7161 - mae: 13528.7161\n",
            "Epoch 64/100\n",
            "34/34 [==============================] - 0s 961us/step - loss: 12778.1443 - mae: 12778.1443\n",
            "Epoch 65/100\n",
            "34/34 [==============================] - 0s 992us/step - loss: 13462.1001 - mae: 13462.1001\n",
            "Epoch 66/100\n",
            "34/34 [==============================] - 0s 1ms/step - loss: 13182.0362 - mae: 13182.0362\n",
            "Epoch 67/100\n",
            "34/34 [==============================] - 0s 1ms/step - loss: 13158.3369 - mae: 13158.3369\n",
            "Epoch 68/100\n",
            "34/34 [==============================] - 0s 1ms/step - loss: 13312.6749 - mae: 13312.6749\n",
            "Epoch 69/100\n",
            "34/34 [==============================] - 0s 1ms/step - loss: 13783.2862 - mae: 13783.2862\n",
            "Epoch 70/100\n",
            "34/34 [==============================] - 0s 1ms/step - loss: 12846.0545 - mae: 12846.0545\n",
            "Epoch 71/100\n",
            "34/34 [==============================] - 0s 1ms/step - loss: 13361.7602 - mae: 13361.7602\n",
            "Epoch 72/100\n",
            "34/34 [==============================] - 0s 985us/step - loss: 13054.6363 - mae: 13054.6363\n",
            "Epoch 73/100\n",
            "34/34 [==============================] - 0s 1ms/step - loss: 13630.5235 - mae: 13630.5235\n",
            "Epoch 74/100\n",
            "34/34 [==============================] - 0s 1ms/step - loss: 13154.0651 - mae: 13154.0651\n",
            "Epoch 75/100\n",
            "34/34 [==============================] - 0s 1ms/step - loss: 13656.9607 - mae: 13656.9607\n",
            "Epoch 76/100\n",
            "34/34 [==============================] - 0s 1ms/step - loss: 12884.7129 - mae: 12884.7129\n",
            "Epoch 77/100\n",
            "34/34 [==============================] - 0s 1ms/step - loss: 13824.0356 - mae: 13824.0356\n",
            "Epoch 78/100\n",
            "34/34 [==============================] - 0s 1ms/step - loss: 12839.7188 - mae: 12839.7188\n",
            "Epoch 79/100\n",
            "34/34 [==============================] - 0s 1ms/step - loss: 12460.6758 - mae: 12460.6758\n",
            "Epoch 80/100\n",
            "34/34 [==============================] - 0s 1ms/step - loss: 12495.1138 - mae: 12495.1138\n",
            "Epoch 81/100\n",
            "34/34 [==============================] - 0s 978us/step - loss: 13173.8966 - mae: 13173.8966\n",
            "Epoch 82/100\n",
            "34/34 [==============================] - 0s 1ms/step - loss: 14249.9072 - mae: 14249.9072\n",
            "Epoch 83/100\n",
            "34/34 [==============================] - 0s 1ms/step - loss: 13204.4382 - mae: 13204.4382\n",
            "Epoch 84/100\n",
            "34/34 [==============================] - 0s 988us/step - loss: 13052.4524 - mae: 13052.4524\n",
            "Epoch 85/100\n",
            "34/34 [==============================] - 0s 1ms/step - loss: 12556.3803 - mae: 12556.3803\n",
            "Epoch 86/100\n",
            "34/34 [==============================] - 0s 1ms/step - loss: 13476.3390 - mae: 13476.3390\n",
            "Epoch 87/100\n",
            "34/34 [==============================] - 0s 1ms/step - loss: 12916.8568 - mae: 12916.8568\n",
            "Epoch 88/100\n",
            "34/34 [==============================] - 0s 1ms/step - loss: 13403.2887 - mae: 13403.2887\n",
            "Epoch 89/100\n",
            "34/34 [==============================] - 0s 1ms/step - loss: 13197.8794 - mae: 13197.8794\n",
            "Epoch 90/100\n",
            "34/34 [==============================] - 0s 1ms/step - loss: 13871.9694 - mae: 13871.9694\n",
            "Epoch 91/100\n",
            "34/34 [==============================] - 0s 1ms/step - loss: 13334.3056 - mae: 13334.3056\n",
            "Epoch 92/100\n",
            "34/34 [==============================] - 0s 1ms/step - loss: 13500.7688 - mae: 13500.7688\n",
            "Epoch 93/100\n",
            "34/34 [==============================] - 0s 1ms/step - loss: 12981.5750 - mae: 12981.5750\n",
            "Epoch 94/100\n",
            "34/34 [==============================] - 0s 1ms/step - loss: 12809.0636 - mae: 12809.0636\n",
            "Epoch 95/100\n",
            "34/34 [==============================] - 0s 1ms/step - loss: 13450.9578 - mae: 13450.9578\n",
            "Epoch 96/100\n",
            "34/34 [==============================] - 0s 1ms/step - loss: 13618.5039 - mae: 13618.5039\n",
            "Epoch 97/100\n",
            "34/34 [==============================] - 0s 1ms/step - loss: 12709.2919 - mae: 12709.2919\n",
            "Epoch 98/100\n",
            "34/34 [==============================] - 0s 1ms/step - loss: 12953.0718 - mae: 12953.0718\n",
            "Epoch 99/100\n",
            "34/34 [==============================] - 0s 1ms/step - loss: 12593.7039 - mae: 12593.7039\n",
            "Epoch 100/100\n",
            "34/34 [==============================] - 0s 1ms/step - loss: 12702.3815 - mae: 12702.3815\n"
          ],
          "name": "stdout"
        }
      ]
    },
    {
      "cell_type": "code",
      "metadata": {
        "colab": {
          "base_uri": "https://localhost:8080/"
        },
        "id": "zw4vEuSDTvbK",
        "outputId": "90d798c5-aa54-47f9-c304-123ac11a0196"
      },
      "source": [
        "# Evaluate the model on test data \n",
        "model_1.evaluate(X_test_normal,y_test)"
      ],
      "execution_count": 42,
      "outputs": [
        {
          "output_type": "stream",
          "text": [
            "9/9 [==============================] - 0s 1ms/step - loss: 12871.9619 - mae: 12871.9619\n"
          ],
          "name": "stdout"
        },
        {
          "output_type": "execute_result",
          "data": {
            "text/plain": [
              "[12871.9619140625, 12871.9619140625]"
            ]
          },
          "metadata": {
            "tags": []
          },
          "execution_count": 42
        }
      ]
    },
    {
      "cell_type": "markdown",
      "metadata": {
        "id": "VZXWm8jPUF_R"
      },
      "source": [
        "As we see, our model performs horible at this point of time 😂,\n",
        "its time to experiment a little and improve our models performance\n",
        "\n"
      ]
    },
    {
      "cell_type": "markdown",
      "metadata": {
        "id": "yig-0ypfU5iQ"
      },
      "source": [
        "Lets build `model_2` with 3 dense layers and change our optimizer to `Adam`"
      ]
    },
    {
      "cell_type": "code",
      "metadata": {
        "colab": {
          "base_uri": "https://localhost:8080/"
        },
        "id": "DurT39QXU4yO",
        "outputId": "8698bab2-e720-418f-9e48-0f62905e70b7"
      },
      "source": [
        "# set random seed\n",
        "tf.random.set_seed(42)\n",
        "\n",
        "# build model_2\n",
        "model_2 = tf.keras.Sequential([\n",
        "    tf.keras.layers.Dense(100), # 100 neurons in each hidden layer\n",
        "    tf.keras.layers.Dense(100),\n",
        "    tf.keras.layers.Dense(1)\n",
        "])\n",
        "\n",
        "# compile model\n",
        "model_2.compile(loss=tf.keras.losses.mae,\n",
        "                optimizer=tf.keras.optimizers.Adam(),\n",
        "                metrics=[\"mae\"])\n",
        "\n",
        "# fit model_2 and train for 100 epochs\n",
        "history_2 = model_2.fit(X_train_normal,y_train, epochs=100)"
      ],
      "execution_count": 43,
      "outputs": [
        {
          "output_type": "stream",
          "text": [
            "Epoch 1/100\n",
            "34/34 [==============================] - 0s 2ms/step - loss: 13296.0512 - mae: 13296.0512\n",
            "Epoch 2/100\n",
            "34/34 [==============================] - 0s 1ms/step - loss: 12930.6596 - mae: 12930.6596\n",
            "Epoch 3/100\n",
            "34/34 [==============================] - 0s 1ms/step - loss: 12608.3409 - mae: 12608.3409\n",
            "Epoch 4/100\n",
            "34/34 [==============================] - 0s 2ms/step - loss: 13053.5572 - mae: 13053.5572\n",
            "Epoch 5/100\n",
            "34/34 [==============================] - 0s 2ms/step - loss: 12463.6689 - mae: 12463.6689\n",
            "Epoch 6/100\n",
            "34/34 [==============================] - 0s 1ms/step - loss: 11466.4434 - mae: 11466.4434\n",
            "Epoch 7/100\n",
            "34/34 [==============================] - 0s 1ms/step - loss: 10421.1109 - mae: 10421.1109\n",
            "Epoch 8/100\n",
            "34/34 [==============================] - 0s 2ms/step - loss: 9628.0480 - mae: 9628.0480\n",
            "Epoch 9/100\n",
            "34/34 [==============================] - 0s 2ms/step - loss: 8665.5269 - mae: 8665.5269\n",
            "Epoch 10/100\n",
            "34/34 [==============================] - 0s 1ms/step - loss: 8380.5256 - mae: 8380.5256\n",
            "Epoch 11/100\n",
            "34/34 [==============================] - 0s 1ms/step - loss: 8357.8588 - mae: 8357.8588\n",
            "Epoch 12/100\n",
            "34/34 [==============================] - 0s 2ms/step - loss: 7804.2637 - mae: 7804.2637\n",
            "Epoch 13/100\n",
            "34/34 [==============================] - 0s 1ms/step - loss: 7954.9655 - mae: 7954.9655\n",
            "Epoch 14/100\n",
            "34/34 [==============================] - 0s 2ms/step - loss: 7722.8011 - mae: 7722.8011\n",
            "Epoch 15/100\n",
            "34/34 [==============================] - 0s 2ms/step - loss: 7804.6059 - mae: 7804.6059\n",
            "Epoch 16/100\n",
            "34/34 [==============================] - 0s 2ms/step - loss: 7662.9866 - mae: 7662.9866\n",
            "Epoch 17/100\n",
            "34/34 [==============================] - 0s 2ms/step - loss: 7067.3055 - mae: 7067.3055\n",
            "Epoch 18/100\n",
            "34/34 [==============================] - 0s 2ms/step - loss: 7125.7009 - mae: 7125.7009\n",
            "Epoch 19/100\n",
            "34/34 [==============================] - 0s 1ms/step - loss: 7148.0089 - mae: 7148.0089\n",
            "Epoch 20/100\n",
            "34/34 [==============================] - 0s 2ms/step - loss: 6813.7508 - mae: 6813.7508\n",
            "Epoch 21/100\n",
            "34/34 [==============================] - 0s 1ms/step - loss: 6272.1216 - mae: 6272.1216\n",
            "Epoch 22/100\n",
            "34/34 [==============================] - 0s 2ms/step - loss: 6411.3222 - mae: 6411.3222\n",
            "Epoch 23/100\n",
            "34/34 [==============================] - 0s 2ms/step - loss: 6636.3960 - mae: 6636.3960\n",
            "Epoch 24/100\n",
            "34/34 [==============================] - 0s 2ms/step - loss: 6315.9256 - mae: 6315.9256\n",
            "Epoch 25/100\n",
            "34/34 [==============================] - 0s 2ms/step - loss: 6493.2497 - mae: 6493.2497\n",
            "Epoch 26/100\n",
            "34/34 [==============================] - 0s 2ms/step - loss: 5761.6235 - mae: 5761.6235\n",
            "Epoch 27/100\n",
            "34/34 [==============================] - 0s 2ms/step - loss: 5943.9102 - mae: 5943.9102\n",
            "Epoch 28/100\n",
            "34/34 [==============================] - 0s 2ms/step - loss: 5846.9951 - mae: 5846.9951\n",
            "Epoch 29/100\n",
            "34/34 [==============================] - 0s 2ms/step - loss: 5090.0104 - mae: 5090.0104\n",
            "Epoch 30/100\n",
            "34/34 [==============================] - 0s 2ms/step - loss: 5112.2500 - mae: 5112.2500\n",
            "Epoch 31/100\n",
            "34/34 [==============================] - 0s 2ms/step - loss: 5027.4818 - mae: 5027.4818\n",
            "Epoch 32/100\n",
            "34/34 [==============================] - 0s 2ms/step - loss: 4416.2059 - mae: 4416.2059\n",
            "Epoch 33/100\n",
            "34/34 [==============================] - 0s 2ms/step - loss: 4365.8456 - mae: 4365.8456\n",
            "Epoch 34/100\n",
            "34/34 [==============================] - 0s 2ms/step - loss: 4034.4931 - mae: 4034.4931\n",
            "Epoch 35/100\n",
            "34/34 [==============================] - 0s 2ms/step - loss: 3928.2569 - mae: 3928.2569\n",
            "Epoch 36/100\n",
            "34/34 [==============================] - 0s 2ms/step - loss: 3706.4262 - mae: 3706.4262\n",
            "Epoch 37/100\n",
            "34/34 [==============================] - 0s 2ms/step - loss: 3775.5970 - mae: 3775.5970\n",
            "Epoch 38/100\n",
            "34/34 [==============================] - 0s 2ms/step - loss: 3497.5037 - mae: 3497.5037\n",
            "Epoch 39/100\n",
            "34/34 [==============================] - 0s 2ms/step - loss: 3766.6970 - mae: 3766.6970\n",
            "Epoch 40/100\n",
            "34/34 [==============================] - 0s 2ms/step - loss: 3614.7092 - mae: 3614.7092\n",
            "Epoch 41/100\n",
            "34/34 [==============================] - 0s 2ms/step - loss: 3587.7385 - mae: 3587.7385\n",
            "Epoch 42/100\n",
            "34/34 [==============================] - 0s 1ms/step - loss: 3697.7168 - mae: 3697.7168\n",
            "Epoch 43/100\n",
            "34/34 [==============================] - 0s 2ms/step - loss: 3698.4447 - mae: 3698.4447\n",
            "Epoch 44/100\n",
            "34/34 [==============================] - 0s 2ms/step - loss: 3490.8892 - mae: 3490.8892\n",
            "Epoch 45/100\n",
            "34/34 [==============================] - 0s 1ms/step - loss: 3470.2286 - mae: 3470.2286\n",
            "Epoch 46/100\n",
            "34/34 [==============================] - 0s 2ms/step - loss: 3435.4208 - mae: 3435.4208\n",
            "Epoch 47/100\n",
            "34/34 [==============================] - 0s 2ms/step - loss: 3808.1462 - mae: 3808.1462\n",
            "Epoch 48/100\n",
            "34/34 [==============================] - 0s 2ms/step - loss: 3570.5594 - mae: 3570.5594\n",
            "Epoch 49/100\n",
            "34/34 [==============================] - 0s 2ms/step - loss: 3643.7795 - mae: 3643.7795\n",
            "Epoch 50/100\n",
            "34/34 [==============================] - 0s 2ms/step - loss: 3580.5745 - mae: 3580.5745\n",
            "Epoch 51/100\n",
            "34/34 [==============================] - 0s 2ms/step - loss: 3571.8282 - mae: 3571.8282\n",
            "Epoch 52/100\n",
            "34/34 [==============================] - 0s 2ms/step - loss: 3561.7971 - mae: 3561.7971\n",
            "Epoch 53/100\n",
            "34/34 [==============================] - 0s 1ms/step - loss: 3471.9242 - mae: 3471.9242\n",
            "Epoch 54/100\n",
            "34/34 [==============================] - 0s 2ms/step - loss: 3604.9224 - mae: 3604.9224\n",
            "Epoch 55/100\n",
            "34/34 [==============================] - 0s 1ms/step - loss: 3548.0983 - mae: 3548.0983\n",
            "Epoch 56/100\n",
            "34/34 [==============================] - 0s 2ms/step - loss: 3588.6195 - mae: 3588.6195\n",
            "Epoch 57/100\n",
            "34/34 [==============================] - 0s 1ms/step - loss: 3785.1796 - mae: 3785.1796\n",
            "Epoch 58/100\n",
            "34/34 [==============================] - 0s 2ms/step - loss: 3586.9149 - mae: 3586.9149\n",
            "Epoch 59/100\n",
            "34/34 [==============================] - 0s 2ms/step - loss: 3286.1633 - mae: 3286.1633\n",
            "Epoch 60/100\n",
            "34/34 [==============================] - 0s 2ms/step - loss: 3645.2252 - mae: 3645.2252\n",
            "Epoch 61/100\n",
            "34/34 [==============================] - 0s 2ms/step - loss: 3657.7383 - mae: 3657.7383\n",
            "Epoch 62/100\n",
            "34/34 [==============================] - 0s 2ms/step - loss: 3747.3162 - mae: 3747.3162\n",
            "Epoch 63/100\n",
            "34/34 [==============================] - 0s 1ms/step - loss: 3624.1197 - mae: 3624.1197\n",
            "Epoch 64/100\n",
            "34/34 [==============================] - 0s 1ms/step - loss: 3564.3306 - mae: 3564.3306\n",
            "Epoch 65/100\n",
            "34/34 [==============================] - 0s 1ms/step - loss: 3567.7824 - mae: 3567.7824\n",
            "Epoch 66/100\n",
            "34/34 [==============================] - 0s 1ms/step - loss: 3378.7822 - mae: 3378.7822\n",
            "Epoch 67/100\n",
            "34/34 [==============================] - 0s 2ms/step - loss: 3562.3335 - mae: 3562.3335\n",
            "Epoch 68/100\n",
            "34/34 [==============================] - 0s 2ms/step - loss: 3590.0830 - mae: 3590.0830\n",
            "Epoch 69/100\n",
            "34/34 [==============================] - 0s 2ms/step - loss: 3542.7654 - mae: 3542.7654\n",
            "Epoch 70/100\n",
            "34/34 [==============================] - 0s 1ms/step - loss: 3369.0710 - mae: 3369.0710\n",
            "Epoch 71/100\n",
            "34/34 [==============================] - 0s 2ms/step - loss: 3537.0920 - mae: 3537.0920\n",
            "Epoch 72/100\n",
            "34/34 [==============================] - 0s 2ms/step - loss: 3426.0253 - mae: 3426.0253\n",
            "Epoch 73/100\n",
            "34/34 [==============================] - 0s 2ms/step - loss: 3738.6946 - mae: 3738.6946\n",
            "Epoch 74/100\n",
            "34/34 [==============================] - 0s 1ms/step - loss: 3546.6907 - mae: 3546.6907\n",
            "Epoch 75/100\n",
            "34/34 [==============================] - 0s 2ms/step - loss: 3662.5044 - mae: 3662.5044\n",
            "Epoch 76/100\n",
            "34/34 [==============================] - 0s 2ms/step - loss: 3372.6560 - mae: 3372.6560\n",
            "Epoch 77/100\n",
            "34/34 [==============================] - 0s 2ms/step - loss: 3606.7876 - mae: 3606.7876\n",
            "Epoch 78/100\n",
            "34/34 [==============================] - 0s 1ms/step - loss: 3553.4789 - mae: 3553.4789\n",
            "Epoch 79/100\n",
            "34/34 [==============================] - 0s 2ms/step - loss: 3483.4710 - mae: 3483.4710\n",
            "Epoch 80/100\n",
            "34/34 [==============================] - 0s 2ms/step - loss: 3320.9677 - mae: 3320.9677\n",
            "Epoch 81/100\n",
            "34/34 [==============================] - 0s 2ms/step - loss: 3328.1850 - mae: 3328.1850\n",
            "Epoch 82/100\n",
            "34/34 [==============================] - 0s 2ms/step - loss: 3742.4207 - mae: 3742.4207\n",
            "Epoch 83/100\n",
            "34/34 [==============================] - 0s 2ms/step - loss: 3465.6626 - mae: 3465.6626\n",
            "Epoch 84/100\n",
            "34/34 [==============================] - 0s 2ms/step - loss: 3197.1905 - mae: 3197.1905\n",
            "Epoch 85/100\n",
            "34/34 [==============================] - 0s 2ms/step - loss: 3229.6395 - mae: 3229.6395\n",
            "Epoch 86/100\n",
            "34/34 [==============================] - 0s 1ms/step - loss: 3536.2387 - mae: 3536.2387\n",
            "Epoch 87/100\n",
            "34/34 [==============================] - 0s 2ms/step - loss: 3438.3778 - mae: 3438.3778\n",
            "Epoch 88/100\n",
            "34/34 [==============================] - 0s 1ms/step - loss: 3545.1161 - mae: 3545.1161\n",
            "Epoch 89/100\n",
            "34/34 [==============================] - 0s 1ms/step - loss: 3300.5392 - mae: 3300.5392\n",
            "Epoch 90/100\n",
            "34/34 [==============================] - 0s 2ms/step - loss: 3559.4335 - mae: 3559.4335\n",
            "Epoch 91/100\n",
            "34/34 [==============================] - 0s 2ms/step - loss: 3516.6626 - mae: 3516.6626\n",
            "Epoch 92/100\n",
            "34/34 [==============================] - 0s 1ms/step - loss: 3665.1373 - mae: 3665.1373\n",
            "Epoch 93/100\n",
            "34/34 [==============================] - 0s 2ms/step - loss: 3600.7107 - mae: 3600.7107\n",
            "Epoch 94/100\n",
            "34/34 [==============================] - 0s 2ms/step - loss: 3420.7501 - mae: 3420.7501\n",
            "Epoch 95/100\n",
            "34/34 [==============================] - 0s 1ms/step - loss: 3305.5558 - mae: 3305.5558\n",
            "Epoch 96/100\n",
            "34/34 [==============================] - 0s 1ms/step - loss: 3244.1397 - mae: 3244.1397\n",
            "Epoch 97/100\n",
            "34/34 [==============================] - 0s 1ms/step - loss: 3268.9775 - mae: 3268.9775\n",
            "Epoch 98/100\n",
            "34/34 [==============================] - 0s 1ms/step - loss: 3509.8896 - mae: 3509.8896\n",
            "Epoch 99/100\n",
            "34/34 [==============================] - 0s 2ms/step - loss: 3156.5943 - mae: 3156.5943\n",
            "Epoch 100/100\n",
            "34/34 [==============================] - 0s 2ms/step - loss: 3248.1677 - mae: 3248.1677\n"
          ],
          "name": "stdout"
        }
      ]
    },
    {
      "cell_type": "code",
      "metadata": {
        "colab": {
          "base_uri": "https://localhost:8080/"
        },
        "id": "YTE1KxcbWUME",
        "outputId": "e6d33fb6-5820-49b7-ab70-f50409cc7d62"
      },
      "source": [
        "# Evaluate model_2\n",
        "model_2.evaluate(X_test_normal,y_test)"
      ],
      "execution_count": 44,
      "outputs": [
        {
          "output_type": "stream",
          "text": [
            "9/9 [==============================] - 0s 2ms/step - loss: 3162.8762 - mae: 3162.8762\n"
          ],
          "name": "stdout"
        },
        {
          "output_type": "execute_result",
          "data": {
            "text/plain": [
              "[3162.876220703125, 3162.876220703125]"
            ]
          },
          "metadata": {
            "tags": []
          },
          "execution_count": 44
        }
      ]
    },
    {
      "cell_type": "markdown",
      "metadata": {
        "id": "MUas4STRWf2H"
      },
      "source": [
        "Looks like our `model_2` has performed wat better than `model_1`\n",
        " \n",
        "model_1 gave us a mean absolute error of appx. 12872 whereas model_2 gave us an mean absolute error of appx. 3163. surely our model_2 outperforms model_1"
      ]
    },
    {
      "cell_type": "markdown",
      "metadata": {
        "id": "1QQ6TTdjXMxp"
      },
      "source": [
        "But lets see our loss function decreasing visually"
      ]
    },
    {
      "cell_type": "code",
      "metadata": {
        "colab": {
          "base_uri": "https://localhost:8080/",
          "height": 282
        },
        "id": "zZvl3ou7XKOA",
        "outputId": "e3a546eb-d83a-47ab-dc3d-ef443f23ab50"
      },
      "source": [
        "pd.DataFrame(history_2.history).plot()\n"
      ],
      "execution_count": 47,
      "outputs": [
        {
          "output_type": "execute_result",
          "data": {
            "text/plain": [
              "<matplotlib.axes._subplots.AxesSubplot at 0x7fde1f49e790>"
            ]
          },
          "metadata": {
            "tags": []
          },
          "execution_count": 47
        },
        {
          "output_type": "display_data",
          "data": {
            "image/png": "[encoded data removed]",
            "text/plain": [
              "<Figure size 432x288 with 1 Axes>"
            ]
          },
          "metadata": {
            "tags": [],
            "needs_background": "light"
          }
        }
      ]
    },
    {
      "cell_type": "markdown",
      "metadata": {
        "id": "nw0krPiwXYYC"
      },
      "source": [
        "looks like our `loss` is only decreasing slightly after around 50 epochs,the loss curve is starting to flatten around this value, \n",
        "we can use early_stopping callback for this and to prevent overfitting the data\n",
        "lets see that in application in model_3"
      ]
    },
    {
      "cell_type": "code",
      "metadata": {
        "colab": {
          "base_uri": "https://localhost:8080/"
        },
        "id": "595E4z3yYaCJ",
        "outputId": "659967e1-c4be-4ede-d3f4-fb8c3fffebc3"
      },
      "source": [
        "# set random seed\n",
        "tf.random.set_seed(42)\n",
        "\n",
        "# model_3\n",
        "model_3 = tf.keras.Sequential([\n",
        "      tf.keras.layers.Dense(100),\n",
        "      tf.keras.layers.Dense(100),\n",
        "      tf.keras.layers.Dense(1)\n",
        "])\n",
        "\n",
        "# compile model_3\n",
        "model_3.compile(loss= tf.keras.losses.mae,\n",
        "                optimizer=tf.keras.optimizers.Adam(),\n",
        "                metrics=['mae'])\n",
        "\n",
        "# early_stopping\n",
        "early_stopping = tf.keras.callbacks.EarlyStopping(monitor=\"loss\", patience=3)\n",
        "\n",
        "# fit and train for 100 epochs\n",
        "history_3 = model_3.fit(X_train_normal, y_train, epochs=100, callbacks=[early_stopping])"
      ],
      "execution_count": 48,
      "outputs": [
        {
          "output_type": "stream",
          "text": [
            "Epoch 1/100\n",
            "34/34 [==============================] - 0s 1ms/step - loss: 13296.0512 - mae: 13296.0512\n",
            "Epoch 2/100\n",
            "34/34 [==============================] - 0s 1ms/step - loss: 12930.6596 - mae: 12930.6596\n",
            "Epoch 3/100\n",
            "34/34 [==============================] - 0s 1ms/step - loss: 12608.3409 - mae: 12608.3409\n",
            "Epoch 4/100\n",
            "34/34 [==============================] - 0s 1ms/step - loss: 13053.5572 - mae: 13053.5572\n",
            "Epoch 5/100\n",
            "34/34 [==============================] - 0s 1ms/step - loss: 12463.6689 - mae: 12463.6689\n",
            "Epoch 6/100\n",
            "34/34 [==============================] - 0s 1ms/step - loss: 11466.4434 - mae: 11466.4434\n",
            "Epoch 7/100\n",
            "34/34 [==============================] - 0s 1ms/step - loss: 10421.1109 - mae: 10421.1109\n",
            "Epoch 8/100\n",
            "34/34 [==============================] - 0s 2ms/step - loss: 9628.0480 - mae: 9628.0480\n",
            "Epoch 9/100\n",
            "34/34 [==============================] - 0s 1ms/step - loss: 8665.5269 - mae: 8665.5269\n",
            "Epoch 10/100\n",
            "34/34 [==============================] - 0s 1ms/step - loss: 8380.5256 - mae: 8380.5256\n",
            "Epoch 11/100\n",
            "34/34 [==============================] - 0s 1ms/step - loss: 8357.8588 - mae: 8357.8588\n",
            "Epoch 12/100\n",
            "34/34 [==============================] - 0s 1ms/step - loss: 7804.2637 - mae: 7804.2637\n",
            "Epoch 13/100\n",
            "34/34 [==============================] - 0s 1ms/step - loss: 7954.9655 - mae: 7954.9655\n",
            "Epoch 14/100\n",
            "34/34 [==============================] - 0s 1ms/step - loss: 7722.8011 - mae: 7722.8011\n",
            "Epoch 15/100\n",
            "34/34 [==============================] - 0s 1ms/step - loss: 7804.6059 - mae: 7804.6059\n",
            "Epoch 16/100\n",
            "34/34 [==============================] - 0s 1ms/step - loss: 7662.9866 - mae: 7662.9866\n",
            "Epoch 17/100\n",
            "34/34 [==============================] - 0s 1ms/step - loss: 7067.3055 - mae: 7067.3055\n",
            "Epoch 18/100\n",
            "34/34 [==============================] - 0s 1ms/step - loss: 7125.7009 - mae: 7125.7009\n",
            "Epoch 19/100\n",
            "34/34 [==============================] - 0s 1ms/step - loss: 7148.0089 - mae: 7148.0089\n",
            "Epoch 20/100\n",
            "34/34 [==============================] - 0s 1ms/step - loss: 6813.7508 - mae: 6813.7508\n",
            "Epoch 21/100\n",
            "34/34 [==============================] - 0s 2ms/step - loss: 6272.1216 - mae: 6272.1216\n",
            "Epoch 22/100\n",
            "34/34 [==============================] - 0s 2ms/step - loss: 6411.3222 - mae: 6411.3222\n",
            "Epoch 23/100\n",
            "34/34 [==============================] - 0s 1ms/step - loss: 6636.3960 - mae: 6636.3960\n",
            "Epoch 24/100\n",
            "34/34 [==============================] - 0s 1ms/step - loss: 6315.9256 - mae: 6315.9256\n",
            "Epoch 25/100\n",
            "34/34 [==============================] - 0s 2ms/step - loss: 6493.2497 - mae: 6493.2497\n",
            "Epoch 26/100\n",
            "34/34 [==============================] - 0s 2ms/step - loss: 5761.6235 - mae: 5761.6235\n",
            "Epoch 27/100\n",
            "34/34 [==============================] - 0s 1ms/step - loss: 5943.9102 - mae: 5943.9102\n",
            "Epoch 28/100\n",
            "34/34 [==============================] - 0s 2ms/step - loss: 5846.9951 - mae: 5846.9951\n",
            "Epoch 29/100\n",
            "34/34 [==============================] - 0s 1ms/step - loss: 5090.0104 - mae: 5090.0104\n",
            "Epoch 30/100\n",
            "34/34 [==============================] - 0s 1ms/step - loss: 5112.2500 - mae: 5112.2500\n",
            "Epoch 31/100\n",
            "34/34 [==============================] - 0s 2ms/step - loss: 5027.4818 - mae: 5027.4818\n",
            "Epoch 32/100\n",
            "34/34 [==============================] - 0s 2ms/step - loss: 4416.2059 - mae: 4416.2059\n",
            "Epoch 33/100\n",
            "34/34 [==============================] - 0s 1ms/step - loss: 4365.8456 - mae: 4365.8456\n",
            "Epoch 34/100\n",
            "34/34 [==============================] - 0s 2ms/step - loss: 4034.4931 - mae: 4034.4931\n",
            "Epoch 35/100\n",
            "34/34 [==============================] - 0s 1ms/step - loss: 3928.2569 - mae: 3928.2569\n",
            "Epoch 36/100\n",
            "34/34 [==============================] - 0s 1ms/step - loss: 3706.4262 - mae: 3706.4262\n",
            "Epoch 37/100\n",
            "34/34 [==============================] - 0s 2ms/step - loss: 3775.5970 - mae: 3775.5970\n",
            "Epoch 38/100\n",
            "34/34 [==============================] - 0s 2ms/step - loss: 3497.5037 - mae: 3497.5037\n",
            "Epoch 39/100\n",
            "34/34 [==============================] - 0s 2ms/step - loss: 3766.6970 - mae: 3766.6970\n",
            "Epoch 40/100\n",
            "34/34 [==============================] - 0s 2ms/step - loss: 3614.7092 - mae: 3614.7092\n",
            "Epoch 41/100\n",
            "34/34 [==============================] - 0s 2ms/step - loss: 3587.7385 - mae: 3587.7385\n",
            "Epoch 42/100\n",
            "34/34 [==============================] - 0s 2ms/step - loss: 3697.7168 - mae: 3697.7168\n",
            "Epoch 43/100\n",
            "34/34 [==============================] - 0s 2ms/step - loss: 3698.4447 - mae: 3698.4447\n",
            "Epoch 44/100\n",
            "34/34 [==============================] - 0s 1ms/step - loss: 3490.8892 - mae: 3490.8892\n",
            "Epoch 45/100\n",
            "34/34 [==============================] - 0s 2ms/step - loss: 3470.2286 - mae: 3470.2286\n",
            "Epoch 46/100\n",
            "34/34 [==============================] - 0s 1ms/step - loss: 3435.4208 - mae: 3435.4208\n",
            "Epoch 47/100\n",
            "34/34 [==============================] - 0s 1ms/step - loss: 3808.1462 - mae: 3808.1462\n",
            "Epoch 48/100\n",
            "34/34 [==============================] - 0s 1ms/step - loss: 3570.5594 - mae: 3570.5594\n",
            "Epoch 49/100\n",
            "34/34 [==============================] - 0s 2ms/step - loss: 3643.7795 - mae: 3643.7795\n",
            "Epoch 50/100\n",
            "34/34 [==============================] - 0s 2ms/step - loss: 3580.5745 - mae: 3580.5745\n",
            "Epoch 51/100\n",
            "34/34 [==============================] - 0s 2ms/step - loss: 3571.8282 - mae: 3571.8282\n",
            "Epoch 52/100\n",
            "34/34 [==============================] - 0s 2ms/step - loss: 3561.7971 - mae: 3561.7971\n",
            "Epoch 53/100\n",
            "34/34 [==============================] - 0s 2ms/step - loss: 3471.9242 - mae: 3471.9242\n",
            "Epoch 54/100\n",
            "34/34 [==============================] - 0s 1ms/step - loss: 3604.9224 - mae: 3604.9224\n",
            "Epoch 55/100\n",
            "34/34 [==============================] - 0s 1ms/step - loss: 3548.0983 - mae: 3548.0983\n",
            "Epoch 56/100\n",
            "34/34 [==============================] - 0s 1ms/step - loss: 3588.6195 - mae: 3588.6195\n",
            "Epoch 57/100\n",
            "34/34 [==============================] - 0s 2ms/step - loss: 3785.1796 - mae: 3785.1796\n",
            "Epoch 58/100\n",
            "34/34 [==============================] - 0s 1ms/step - loss: 3586.9149 - mae: 3586.9149\n",
            "Epoch 59/100\n",
            "34/34 [==============================] - 0s 2ms/step - loss: 3286.1633 - mae: 3286.1633\n",
            "Epoch 60/100\n",
            "34/34 [==============================] - 0s 1ms/step - loss: 3645.2252 - mae: 3645.2252\n",
            "Epoch 61/100\n",
            "34/34 [==============================] - 0s 1ms/step - loss: 3657.7383 - mae: 3657.7383\n",
            "Epoch 62/100\n",
            "34/34 [==============================] - 0s 1ms/step - loss: 3747.3162 - mae: 3747.3162\n",
            "Epoch 63/100\n",
            "34/34 [==============================] - 0s 2ms/step - loss: 3624.1197 - mae: 3624.1197\n",
            "Epoch 64/100\n",
            "34/34 [==============================] - 0s 2ms/step - loss: 3564.3306 - mae: 3564.3306\n",
            "Epoch 65/100\n",
            "34/34 [==============================] - 0s 2ms/step - loss: 3567.7824 - mae: 3567.7824\n",
            "Epoch 66/100\n",
            "34/34 [==============================] - 0s 2ms/step - loss: 3378.7822 - mae: 3378.7822\n",
            "Epoch 67/100\n",
            "34/34 [==============================] - 0s 1ms/step - loss: 3562.3335 - mae: 3562.3335\n",
            "Epoch 68/100\n",
            "34/34 [==============================] - 0s 1ms/step - loss: 3590.0830 - mae: 3590.0830\n",
            "Epoch 69/100\n",
            "34/34 [==============================] - 0s 1ms/step - loss: 3542.7654 - mae: 3542.7654\n",
            "Epoch 70/100\n",
            "34/34 [==============================] - 0s 1ms/step - loss: 3369.0710 - mae: 3369.0710\n",
            "Epoch 71/100\n",
            "34/34 [==============================] - 0s 1ms/step - loss: 3537.0920 - mae: 3537.0920\n",
            "Epoch 72/100\n",
            "34/34 [==============================] - 0s 1ms/step - loss: 3426.0253 - mae: 3426.0253\n",
            "Epoch 73/100\n",
            "34/34 [==============================] - 0s 2ms/step - loss: 3738.6946 - mae: 3738.6946\n",
            "Epoch 74/100\n",
            "34/34 [==============================] - 0s 1ms/step - loss: 3546.6907 - mae: 3546.6907\n",
            "Epoch 75/100\n",
            "34/34 [==============================] - 0s 2ms/step - loss: 3662.5044 - mae: 3662.5044\n",
            "Epoch 76/100\n",
            "34/34 [==============================] - 0s 2ms/step - loss: 3372.6560 - mae: 3372.6560\n",
            "Epoch 77/100\n",
            "34/34 [==============================] - 0s 2ms/step - loss: 3606.7876 - mae: 3606.7876\n",
            "Epoch 78/100\n",
            "34/34 [==============================] - 0s 2ms/step - loss: 3553.4789 - mae: 3553.4789\n",
            "Epoch 79/100\n",
            "34/34 [==============================] - 0s 2ms/step - loss: 3483.4710 - mae: 3483.4710\n",
            "Epoch 80/100\n",
            "34/34 [==============================] - 0s 2ms/step - loss: 3320.9677 - mae: 3320.9677\n",
            "Epoch 81/100\n",
            "34/34 [==============================] - 0s 2ms/step - loss: 3328.1850 - mae: 3328.1850\n",
            "Epoch 82/100\n",
            "34/34 [==============================] - 0s 2ms/step - loss: 3742.4207 - mae: 3742.4207\n",
            "Epoch 83/100\n",
            "34/34 [==============================] - 0s 1ms/step - loss: 3465.6626 - mae: 3465.6626\n",
            "Epoch 84/100\n",
            "34/34 [==============================] - 0s 2ms/step - loss: 3197.1905 - mae: 3197.1905\n",
            "Epoch 85/100\n",
            "34/34 [==============================] - 0s 2ms/step - loss: 3229.6395 - mae: 3229.6395\n",
            "Epoch 86/100\n",
            "34/34 [==============================] - 0s 2ms/step - loss: 3536.2387 - mae: 3536.2387\n",
            "Epoch 87/100\n",
            "34/34 [==============================] - 0s 2ms/step - loss: 3438.3778 - mae: 3438.3778\n",
            "Epoch 88/100\n",
            "34/34 [==============================] - 0s 3ms/step - loss: 3545.1161 - mae: 3545.1161\n",
            "Epoch 89/100\n",
            "34/34 [==============================] - 0s 2ms/step - loss: 3300.5392 - mae: 3300.5392\n",
            "Epoch 90/100\n",
            "34/34 [==============================] - 0s 2ms/step - loss: 3559.4335 - mae: 3559.4335\n",
            "Epoch 91/100\n",
            "34/34 [==============================] - 0s 2ms/step - loss: 3516.6626 - mae: 3516.6626\n",
            "Epoch 92/100\n",
            "34/34 [==============================] - 0s 2ms/step - loss: 3665.1373 - mae: 3665.1373\n",
            "Epoch 93/100\n",
            "34/34 [==============================] - 0s 2ms/step - loss: 3600.7107 - mae: 3600.7107\n",
            "Epoch 94/100\n",
            "34/34 [==============================] - 0s 2ms/step - loss: 3420.7501 - mae: 3420.7501\n",
            "Epoch 95/100\n",
            "34/34 [==============================] - 0s 2ms/step - loss: 3305.5558 - mae: 3305.5558\n",
            "Epoch 96/100\n",
            "34/34 [==============================] - 0s 1ms/step - loss: 3244.1397 - mae: 3244.1397\n",
            "Epoch 97/100\n",
            "34/34 [==============================] - 0s 1ms/step - loss: 3268.9775 - mae: 3268.9775\n",
            "Epoch 98/100\n",
            "34/34 [==============================] - 0s 2ms/step - loss: 3509.8896 - mae: 3509.8896\n",
            "Epoch 99/100\n",
            "34/34 [==============================] - 0s 1ms/step - loss: 3156.5943 - mae: 3156.5943\n",
            "Epoch 100/100\n",
            "34/34 [==============================] - 0s 1ms/step - loss: 3248.1677 - mae: 3248.1677\n"
          ],
          "name": "stdout"
        }
      ]
    },
    {
      "cell_type": "code",
      "metadata": {
        "colab": {
          "base_uri": "https://localhost:8080/"
        },
        "id": "47V7tBO8aTF9",
        "outputId": "a61a090d-1a6c-4b00-e207-e3876bf1c7c8"
      },
      "source": [
        "# evaluate model_3\n",
        "model_3.evaluate(X_test_normal, y_test)"
      ],
      "execution_count": 49,
      "outputs": [
        {
          "output_type": "stream",
          "text": [
            "9/9 [==============================] - 0s 2ms/step - loss: 3162.8762 - mae: 3162.8762\n"
          ],
          "name": "stdout"
        },
        {
          "output_type": "execute_result",
          "data": {
            "text/plain": [
              "[3162.876220703125, 3162.876220703125]"
            ]
          },
          "metadata": {
            "tags": []
          },
          "execution_count": 49
        }
      ]
    },
    {
      "cell_type": "markdown",
      "metadata": {
        "id": "QEkZGf3haipV"
      },
      "source": [
        "seems like our `model_2` results and `model_3` results are same, \n",
        "\n",
        "lets compare the loss curves for both models"
      ]
    },
    {
      "cell_type": "code",
      "metadata": {
        "id": "DXtiER66a1rB"
      },
      "source": [
        "import matplotlib.pyplot as plt\n",
        "import seaborn as sns\n",
        "sns.set()"
      ],
      "execution_count": 50,
      "outputs": []
    },
    {
      "cell_type": "code",
      "metadata": {
        "colab": {
          "base_uri": "https://localhost:8080/",
          "height": 585
        },
        "id": "32XoDxL8a79v",
        "outputId": "c594e120-3ed8-4d62-8652-d946f3f0b419"
      },
      "source": [
        "pd.DataFrame(history_2.history).plot(title=\"model_2\"), pd.DataFrame(history_3.history).plot(title=\"Model_3\")"
      ],
      "execution_count": 52,
      "outputs": [
        {
          "output_type": "execute_result",
          "data": {
            "text/plain": [
              "(<matplotlib.axes._subplots.AxesSubplot at 0x7fde1dc98e10>,\n",
              " <matplotlib.axes._subplots.AxesSubplot at 0x7fde1c9cadd0>)"
            ]
          },
          "metadata": {
            "tags": []
          },
          "execution_count": 52
        },
        {
          "output_type": "display_data",
          "data": {
            "image/png": "[encoded data removed]",
            "text/plain": [
              "<Figure size 432x288 with 1 Axes>"
            ]
          },
          "metadata": {
            "tags": []
          }
        },
        {
          "output_type": "display_data",
          "data": {
            "image/png": "[encoded data removed]",
            "text/plain": [
              "<Figure size 432x288 with 1 Axes>"
            ]
          },
          "metadata": {
            "tags": []
          }
        }
      ]
    },
    {
      "cell_type": "markdown",
      "metadata": {
        "id": "jP-dQHsubinp"
      },
      "source": [
        "So, the plots are exactly same and our intution about flattening curve in model_2 was wrong . But its good to have an early stopping callback to prevent the model from overfitting. \n",
        "so, to conclude .. both model_2 and model_3 are same and produce the same results . lets now build one last model to see if our performance increases or not. this time lets train for 200 epochs"
      ]
    },
    {
      "cell_type": "code",
      "metadata": {
        "colab": {
          "base_uri": "https://localhost:8080/"
        },
        "id": "NASVfCQzc_zS",
        "outputId": "49f74a05-3451-4ea7-ffad-1507a19b8245"
      },
      "source": [
        "# random-seed\n",
        "tf.random.set_seed(42)\n",
        "\n",
        "# build model_4\n",
        "model_4 = tf.keras.Sequential([\n",
        "      tf.keras.layers.Dense(100),\n",
        "      tf.keras.layers.Dense(100),\n",
        "      tf.keras.layers.Dense(1),\n",
        "])\n",
        "\n",
        "# compile model_4\n",
        "model_4.compile(loss=tf.keras.losses.mae,\n",
        "                optimizer=tf.keras.optimizers.Adam(),\n",
        "                metrics=[\"mae\"])\n",
        "\n",
        "# Early Stopping Callback\n",
        "early_stopping = tf.keras.callbacks.EarlyStopping(monitor=\"mae\", patience=3)\n",
        "\n",
        "# fit the model for 200 epochs\n",
        "history_4 = model_4.fit(X_train_normal, y_train, epochs=200, callbacks = [early_stopping])"
      ],
      "execution_count": 53,
      "outputs": [
        {
          "output_type": "stream",
          "text": [
            "Epoch 1/200\n",
            "34/34 [==============================] - 0s 1ms/step - loss: 13296.0512 - mae: 13296.0512\n",
            "Epoch 2/200\n",
            "34/34 [==============================] - 0s 1ms/step - loss: 12930.6596 - mae: 12930.6596\n",
            "Epoch 3/200\n",
            "34/34 [==============================] - 0s 2ms/step - loss: 12608.3409 - mae: 12608.3409\n",
            "Epoch 4/200\n",
            "34/34 [==============================] - 0s 1ms/step - loss: 13053.5572 - mae: 13053.5572\n",
            "Epoch 5/200\n",
            "34/34 [==============================] - 0s 2ms/step - loss: 12463.6689 - mae: 12463.6689\n",
            "Epoch 6/200\n",
            "34/34 [==============================] - 0s 1ms/step - loss: 11466.4434 - mae: 11466.4434\n",
            "Epoch 7/200\n",
            "34/34 [==============================] - 0s 1ms/step - loss: 10421.1109 - mae: 10421.1109\n",
            "Epoch 8/200\n",
            "34/34 [==============================] - 0s 1ms/step - loss: 9628.0480 - mae: 9628.0480\n",
            "Epoch 9/200\n",
            "34/34 [==============================] - 0s 2ms/step - loss: 8665.5269 - mae: 8665.5269\n",
            "Epoch 10/200\n",
            "34/34 [==============================] - 0s 2ms/step - loss: 8380.5256 - mae: 8380.5256\n",
            "Epoch 11/200\n",
            "34/34 [==============================] - 0s 1ms/step - loss: 8357.8588 - mae: 8357.8588\n",
            "Epoch 12/200\n",
            "34/34 [==============================] - 0s 2ms/step - loss: 7804.2637 - mae: 7804.2637\n",
            "Epoch 13/200\n",
            "34/34 [==============================] - 0s 1ms/step - loss: 7954.9655 - mae: 7954.9655\n",
            "Epoch 14/200\n",
            "34/34 [==============================] - 0s 1ms/step - loss: 7722.8011 - mae: 7722.8011\n",
            "Epoch 15/200\n",
            "34/34 [==============================] - 0s 1ms/step - loss: 7804.6059 - mae: 7804.6059\n",
            "Epoch 16/200\n",
            "34/34 [==============================] - 0s 2ms/step - loss: 7662.9866 - mae: 7662.9866\n",
            "Epoch 17/200\n",
            "34/34 [==============================] - 0s 2ms/step - loss: 7067.3055 - mae: 7067.3055\n",
            "Epoch 18/200\n",
            "34/34 [==============================] - 0s 1ms/step - loss: 7125.7009 - mae: 7125.7009\n",
            "Epoch 19/200\n",
            "34/34 [==============================] - 0s 2ms/step - loss: 7148.0089 - mae: 7148.0089\n",
            "Epoch 20/200\n",
            "34/34 [==============================] - 0s 2ms/step - loss: 6813.7508 - mae: 6813.7508\n",
            "Epoch 21/200\n",
            "34/34 [==============================] - 0s 2ms/step - loss: 6272.1216 - mae: 6272.1216\n",
            "Epoch 22/200\n",
            "34/34 [==============================] - 0s 1ms/step - loss: 6411.3222 - mae: 6411.3222\n",
            "Epoch 23/200\n",
            "34/34 [==============================] - 0s 2ms/step - loss: 6636.3960 - mae: 6636.3960\n",
            "Epoch 24/200\n",
            "34/34 [==============================] - 0s 2ms/step - loss: 6315.9256 - mae: 6315.9256\n",
            "Epoch 25/200\n",
            "34/34 [==============================] - 0s 2ms/step - loss: 6493.2497 - mae: 6493.2497\n",
            "Epoch 26/200\n",
            "34/34 [==============================] - 0s 1ms/step - loss: 5761.6235 - mae: 5761.6235\n",
            "Epoch 27/200\n",
            "34/34 [==============================] - 0s 1ms/step - loss: 5943.9102 - mae: 5943.9102\n",
            "Epoch 28/200\n",
            "34/34 [==============================] - 0s 1ms/step - loss: 5846.9951 - mae: 5846.9951\n",
            "Epoch 29/200\n",
            "34/34 [==============================] - 0s 2ms/step - loss: 5090.0104 - mae: 5090.0104\n",
            "Epoch 30/200\n",
            "34/34 [==============================] - 0s 2ms/step - loss: 5112.2500 - mae: 5112.2500\n",
            "Epoch 31/200\n",
            "34/34 [==============================] - 0s 2ms/step - loss: 5027.4818 - mae: 5027.4818\n",
            "Epoch 32/200\n",
            "34/34 [==============================] - 0s 1ms/step - loss: 4416.2059 - mae: 4416.2059\n",
            "Epoch 33/200\n",
            "34/34 [==============================] - 0s 1ms/step - loss: 4365.8456 - mae: 4365.8456\n",
            "Epoch 34/200\n",
            "34/34 [==============================] - 0s 2ms/step - loss: 4034.4931 - mae: 4034.4931\n",
            "Epoch 35/200\n",
            "34/34 [==============================] - 0s 2ms/step - loss: 3928.2569 - mae: 3928.2569\n",
            "Epoch 36/200\n",
            "34/34 [==============================] - 0s 1ms/step - loss: 3706.4262 - mae: 3706.4262\n",
            "Epoch 37/200\n",
            "34/34 [==============================] - 0s 2ms/step - loss: 3775.5970 - mae: 3775.5970\n",
            "Epoch 38/200\n",
            "34/34 [==============================] - 0s 1ms/step - loss: 3497.5037 - mae: 3497.5037\n",
            "Epoch 39/200\n",
            "34/34 [==============================] - 0s 1ms/step - loss: 3766.6970 - mae: 3766.6970\n",
            "Epoch 40/200\n",
            "34/34 [==============================] - 0s 1ms/step - loss: 3614.7092 - mae: 3614.7092\n",
            "Epoch 41/200\n",
            "34/34 [==============================] - 0s 1ms/step - loss: 3587.7385 - mae: 3587.7385\n",
            "Epoch 42/200\n",
            "34/34 [==============================] - 0s 2ms/step - loss: 3697.7168 - mae: 3697.7168\n",
            "Epoch 43/200\n",
            "34/34 [==============================] - 0s 2ms/step - loss: 3698.4447 - mae: 3698.4447\n",
            "Epoch 44/200\n",
            "34/34 [==============================] - 0s 1ms/step - loss: 3490.8892 - mae: 3490.8892\n",
            "Epoch 45/200\n",
            "34/34 [==============================] - 0s 2ms/step - loss: 3470.2286 - mae: 3470.2286\n",
            "Epoch 46/200\n",
            "34/34 [==============================] - 0s 1ms/step - loss: 3435.4208 - mae: 3435.4208\n",
            "Epoch 47/200\n",
            "34/34 [==============================] - 0s 2ms/step - loss: 3808.1462 - mae: 3808.1462\n",
            "Epoch 48/200\n",
            "34/34 [==============================] - 0s 2ms/step - loss: 3570.5594 - mae: 3570.5594\n",
            "Epoch 49/200\n",
            "34/34 [==============================] - 0s 2ms/step - loss: 3643.7795 - mae: 3643.7795\n",
            "Epoch 50/200\n",
            "34/34 [==============================] - 0s 1ms/step - loss: 3580.5745 - mae: 3580.5745\n",
            "Epoch 51/200\n",
            "34/34 [==============================] - 0s 2ms/step - loss: 3571.8282 - mae: 3571.8282\n",
            "Epoch 52/200\n",
            "34/34 [==============================] - 0s 1ms/step - loss: 3561.7971 - mae: 3561.7971\n",
            "Epoch 53/200\n",
            "34/34 [==============================] - 0s 2ms/step - loss: 3471.9242 - mae: 3471.9242\n",
            "Epoch 54/200\n",
            "34/34 [==============================] - 0s 2ms/step - loss: 3604.9224 - mae: 3604.9224\n",
            "Epoch 55/200\n",
            "34/34 [==============================] - 0s 2ms/step - loss: 3548.0983 - mae: 3548.0983\n",
            "Epoch 56/200\n",
            "34/34 [==============================] - 0s 2ms/step - loss: 3588.6195 - mae: 3588.6195\n",
            "Epoch 57/200\n",
            "34/34 [==============================] - 0s 2ms/step - loss: 3785.1796 - mae: 3785.1796\n",
            "Epoch 58/200\n",
            "34/34 [==============================] - 0s 2ms/step - loss: 3586.9149 - mae: 3586.9149\n",
            "Epoch 59/200\n",
            "34/34 [==============================] - 0s 1ms/step - loss: 3286.1633 - mae: 3286.1633\n",
            "Epoch 60/200\n",
            "34/34 [==============================] - 0s 1ms/step - loss: 3645.2252 - mae: 3645.2252\n",
            "Epoch 61/200\n",
            "34/34 [==============================] - 0s 1ms/step - loss: 3657.7383 - mae: 3657.7383\n",
            "Epoch 62/200\n",
            "34/34 [==============================] - 0s 2ms/step - loss: 3747.3162 - mae: 3747.3162\n",
            "Epoch 63/200\n",
            "34/34 [==============================] - 0s 1ms/step - loss: 3624.1197 - mae: 3624.1197\n",
            "Epoch 64/200\n",
            "34/34 [==============================] - 0s 2ms/step - loss: 3564.3306 - mae: 3564.3306\n",
            "Epoch 65/200\n",
            "34/34 [==============================] - 0s 2ms/step - loss: 3567.7824 - mae: 3567.7824\n",
            "Epoch 66/200\n",
            "34/34 [==============================] - 0s 2ms/step - loss: 3378.7822 - mae: 3378.7822\n",
            "Epoch 67/200\n",
            "34/34 [==============================] - 0s 2ms/step - loss: 3562.3335 - mae: 3562.3335\n",
            "Epoch 68/200\n",
            "34/34 [==============================] - 0s 2ms/step - loss: 3590.0830 - mae: 3590.0830\n",
            "Epoch 69/200\n",
            "34/34 [==============================] - 0s 2ms/step - loss: 3542.7654 - mae: 3542.7654\n",
            "Epoch 70/200\n",
            "34/34 [==============================] - 0s 2ms/step - loss: 3369.0710 - mae: 3369.0710\n",
            "Epoch 71/200\n",
            "34/34 [==============================] - 0s 2ms/step - loss: 3537.0920 - mae: 3537.0920\n",
            "Epoch 72/200\n",
            "34/34 [==============================] - 0s 2ms/step - loss: 3426.0253 - mae: 3426.0253\n",
            "Epoch 73/200\n",
            "34/34 [==============================] - 0s 2ms/step - loss: 3738.6946 - mae: 3738.6946\n",
            "Epoch 74/200\n",
            "34/34 [==============================] - 0s 2ms/step - loss: 3546.6907 - mae: 3546.6907\n",
            "Epoch 75/200\n",
            "34/34 [==============================] - 0s 1ms/step - loss: 3662.5044 - mae: 3662.5044\n",
            "Epoch 76/200\n",
            "34/34 [==============================] - 0s 2ms/step - loss: 3372.6560 - mae: 3372.6560\n",
            "Epoch 77/200\n",
            "34/34 [==============================] - 0s 2ms/step - loss: 3606.7876 - mae: 3606.7876\n",
            "Epoch 78/200\n",
            "34/34 [==============================] - 0s 1ms/step - loss: 3553.4789 - mae: 3553.4789\n",
            "Epoch 79/200\n",
            "34/34 [==============================] - 0s 2ms/step - loss: 3483.4710 - mae: 3483.4710\n",
            "Epoch 80/200\n",
            "34/34 [==============================] - 0s 1ms/step - loss: 3320.9677 - mae: 3320.9677\n",
            "Epoch 81/200\n",
            "34/34 [==============================] - 0s 1ms/step - loss: 3328.1850 - mae: 3328.1850\n",
            "Epoch 82/200\n",
            "34/34 [==============================] - 0s 2ms/step - loss: 3742.4207 - mae: 3742.4207\n",
            "Epoch 83/200\n",
            "34/34 [==============================] - 0s 2ms/step - loss: 3465.6626 - mae: 3465.6626\n",
            "Epoch 84/200\n",
            "34/34 [==============================] - 0s 2ms/step - loss: 3197.1905 - mae: 3197.1905\n",
            "Epoch 85/200\n",
            "34/34 [==============================] - 0s 2ms/step - loss: 3229.6395 - mae: 3229.6395\n",
            "Epoch 86/200\n",
            "34/34 [==============================] - 0s 1ms/step - loss: 3536.2387 - mae: 3536.2387\n",
            "Epoch 87/200\n",
            "34/34 [==============================] - 0s 1ms/step - loss: 3438.3778 - mae: 3438.3778\n",
            "Epoch 88/200\n",
            "34/34 [==============================] - 0s 1ms/step - loss: 3545.1161 - mae: 3545.1161\n",
            "Epoch 89/200\n",
            "34/34 [==============================] - 0s 2ms/step - loss: 3300.5392 - mae: 3300.5392\n",
            "Epoch 90/200\n",
            "34/34 [==============================] - 0s 2ms/step - loss: 3559.4335 - mae: 3559.4335\n",
            "Epoch 91/200\n",
            "34/34 [==============================] - 0s 1ms/step - loss: 3516.6626 - mae: 3516.6626\n",
            "Epoch 92/200\n",
            "34/34 [==============================] - 0s 2ms/step - loss: 3665.1373 - mae: 3665.1373\n",
            "Epoch 93/200\n",
            "34/34 [==============================] - 0s 2ms/step - loss: 3600.7107 - mae: 3600.7107\n",
            "Epoch 94/200\n",
            "34/34 [==============================] - 0s 2ms/step - loss: 3420.7501 - mae: 3420.7501\n",
            "Epoch 95/200\n",
            "34/34 [==============================] - 0s 2ms/step - loss: 3305.5558 - mae: 3305.5558\n",
            "Epoch 96/200\n",
            "34/34 [==============================] - 0s 2ms/step - loss: 3244.1397 - mae: 3244.1397\n",
            "Epoch 97/200\n",
            "34/34 [==============================] - 0s 2ms/step - loss: 3268.9775 - mae: 3268.9775\n",
            "Epoch 98/200\n",
            "34/34 [==============================] - 0s 2ms/step - loss: 3509.8896 - mae: 3509.8896\n",
            "Epoch 99/200\n",
            "34/34 [==============================] - 0s 2ms/step - loss: 3156.5943 - mae: 3156.5943\n",
            "Epoch 100/200\n",
            "34/34 [==============================] - 0s 1ms/step - loss: 3248.1677 - mae: 3248.1677\n",
            "Epoch 101/200\n",
            "34/34 [==============================] - 0s 2ms/step - loss: 3177.7772 - mae: 3177.7772\n"
          ],
          "name": "stdout"
        }
      ]
    },
    {
      "cell_type": "code",
      "metadata": {
        "colab": {
          "base_uri": "https://localhost:8080/"
        },
        "id": "XOBSZsezeDcb",
        "outputId": "82da47c7-6451-4bbc-d851-8084aa7f1b08"
      },
      "source": [
        "# evaluate model_4\n",
        "\n",
        "model_4.evaluate(X_test_normal, y_test)"
      ],
      "execution_count": 54,
      "outputs": [
        {
          "output_type": "stream",
          "text": [
            "9/9 [==============================] - 0s 1ms/step - loss: 3165.6287 - mae: 3165.6287\n"
          ],
          "name": "stdout"
        },
        {
          "output_type": "execute_result",
          "data": {
            "text/plain": [
              "[3165.628662109375, 3165.628662109375]"
            ]
          },
          "metadata": {
            "tags": []
          },
          "execution_count": 54
        }
      ]
    },
    {
      "cell_type": "markdown",
      "metadata": {
        "id": "Q1GQSKKueVxG"
      },
      "source": [
        "Clearly , using early stopping proved to be a blessing in this case.. model stopped training after 101 epochs which is just one more iteration than `model_3`.\n",
        "\n",
        "thus our `model_4` is the best model so far \n",
        "we can try more by adjusting learning rate or increasing number of layers and hidden units .. but for now we have a great performing model ready to be used for predicting Insurance Charges for a person based on parameters discussed above."
      ]
    },
    {
      "cell_type": "markdown",
      "metadata": {
        "id": "ehnLQQSvfO29"
      },
      "source": [
        "**Thankyu!**"
      ]
    }
  ]
}